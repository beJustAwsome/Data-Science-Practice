{
 "cells": [
  {
   "cell_type": "markdown",
   "metadata": {},
   "source": [
    "\n",
    "# Chicago Crime Data Analysis\n",
    "This dataset reflects reported incidents of crime (with the exception of murders where data exists\n",
    "for each victim) that occurred in the City of Chicago. Data is extracted from the Chicago Police Department's CLEAR (Citizen Law Enforcement Analysis and Reporting) system. In order to protect the privacy of crime victims, addresses are shown at the block level only and specific locations are not identified.\n",
    "\n",
    "### Objective: \n",
    "To help the City of Chicago makes sense of the data collected in order to find important patterns about how to improve law enforcement actions to prevent crime. \n",
    "\n"
   ]
  },
  {
   "cell_type": "markdown",
   "metadata": {},
   "source": [
    "### Perform Analysis:\n",
    "1. What are the top 12 most common crimes of the period?\n",
    "2. What are the crime types that have median above 50 crimes/day?\n",
    "3. For each crime type identified in the last question, use the latitude and longitude into a KDE plot, to\n",
    "analyse its spread.\n",
    "4. For each crime type plotted into KDE, discover the mean of the coordinates (latitude and longitude).\n",
    "5. Use google maps, plot the coordinates and investigate if the distances are close or not, what could\n",
    "indicate that the area should have more investment in public security. "
   ]
  },
  {
   "cell_type": "code",
   "execution_count": 1,
   "metadata": {},
   "outputs": [],
   "source": [
    "# Import packages needed to perform the analysis\n",
    "import pandas as pd\n",
    "import matplotlib.pyplot as plt\n",
    "import seaborn as sns\n",
    "%matplotlib inline\n",
    "\n",
    "import warnings\n",
    "warnings.filterwarnings('ignore')"
   ]
  },
  {
   "cell_type": "code",
   "execution_count": 2,
   "metadata": {},
   "outputs": [],
   "source": [
    "# Load up the the dataset\n",
    "df = pd.read_csv('Crimes_2017.csv')"
   ]
  },
  {
   "cell_type": "markdown",
   "metadata": {},
   "source": [
    "### Explore the dataset"
   ]
  },
  {
   "cell_type": "code",
   "execution_count": 3,
   "metadata": {},
   "outputs": [
    {
     "data": {
      "text/html": [
       "<div>\n",
       "<style scoped>\n",
       "    .dataframe tbody tr th:only-of-type {\n",
       "        vertical-align: middle;\n",
       "    }\n",
       "\n",
       "    .dataframe tbody tr th {\n",
       "        vertical-align: top;\n",
       "    }\n",
       "\n",
       "    .dataframe thead th {\n",
       "        text-align: right;\n",
       "    }\n",
       "</style>\n",
       "<table border=\"1\" class=\"dataframe\">\n",
       "  <thead>\n",
       "    <tr style=\"text-align: right;\">\n",
       "      <th></th>\n",
       "      <th>ID</th>\n",
       "      <th>Case Number</th>\n",
       "      <th>Date</th>\n",
       "      <th>Block</th>\n",
       "      <th>IUCR</th>\n",
       "      <th>Primary Type</th>\n",
       "      <th>Description</th>\n",
       "      <th>Location Description</th>\n",
       "      <th>Arrest</th>\n",
       "      <th>Domestic</th>\n",
       "      <th>...</th>\n",
       "      <th>Ward</th>\n",
       "      <th>Community Area</th>\n",
       "      <th>FBI Code</th>\n",
       "      <th>X Coordinate</th>\n",
       "      <th>Y Coordinate</th>\n",
       "      <th>Year</th>\n",
       "      <th>Updated On</th>\n",
       "      <th>Latitude</th>\n",
       "      <th>Longitude</th>\n",
       "      <th>Location</th>\n",
       "    </tr>\n",
       "  </thead>\n",
       "  <tbody>\n",
       "    <tr>\n",
       "      <th>0</th>\n",
       "      <td>10887077</td>\n",
       "      <td>JA196832</td>\n",
       "      <td>01/01/2017 12:01:00 AM</td>\n",
       "      <td>073XX N OAKLEY AVE</td>\n",
       "      <td>1751</td>\n",
       "      <td>OFFENSE INVOLVING CHILDREN</td>\n",
       "      <td>CRIM SEX ABUSE BY FAM MEMBER</td>\n",
       "      <td>RESIDENCE</td>\n",
       "      <td>False</td>\n",
       "      <td>False</td>\n",
       "      <td>...</td>\n",
       "      <td>49</td>\n",
       "      <td>2</td>\n",
       "      <td>20</td>\n",
       "      <td>NaN</td>\n",
       "      <td>NaN</td>\n",
       "      <td>2017</td>\n",
       "      <td>03/23/2017 03:53:53 PM</td>\n",
       "      <td>NaN</td>\n",
       "      <td>NaN</td>\n",
       "      <td>NaN</td>\n",
       "    </tr>\n",
       "    <tr>\n",
       "      <th>1</th>\n",
       "      <td>10883971</td>\n",
       "      <td>JA193683</td>\n",
       "      <td>01/01/2017 12:01:00 AM</td>\n",
       "      <td>0000X E 103RD PL</td>\n",
       "      <td>0281</td>\n",
       "      <td>CRIM SEXUAL ASSAULT</td>\n",
       "      <td>NON-AGGRAVATED</td>\n",
       "      <td>RESIDENCE</td>\n",
       "      <td>False</td>\n",
       "      <td>False</td>\n",
       "      <td>...</td>\n",
       "      <td>9</td>\n",
       "      <td>49</td>\n",
       "      <td>02</td>\n",
       "      <td>NaN</td>\n",
       "      <td>NaN</td>\n",
       "      <td>2017</td>\n",
       "      <td>03/21/2017 03:50:39 PM</td>\n",
       "      <td>NaN</td>\n",
       "      <td>NaN</td>\n",
       "      <td>NaN</td>\n",
       "    </tr>\n",
       "    <tr>\n",
       "      <th>2</th>\n",
       "      <td>10883969</td>\n",
       "      <td>JA193696</td>\n",
       "      <td>01/01/2017 12:01:00 AM</td>\n",
       "      <td>075XX S KINGSTON AVE</td>\n",
       "      <td>1751</td>\n",
       "      <td>OFFENSE INVOLVING CHILDREN</td>\n",
       "      <td>CRIM SEX ABUSE BY FAM MEMBER</td>\n",
       "      <td>APARTMENT</td>\n",
       "      <td>False</td>\n",
       "      <td>False</td>\n",
       "      <td>...</td>\n",
       "      <td>7</td>\n",
       "      <td>43</td>\n",
       "      <td>20</td>\n",
       "      <td>NaN</td>\n",
       "      <td>NaN</td>\n",
       "      <td>2017</td>\n",
       "      <td>03/21/2017 03:50:39 PM</td>\n",
       "      <td>NaN</td>\n",
       "      <td>NaN</td>\n",
       "      <td>NaN</td>\n",
       "    </tr>\n",
       "    <tr>\n",
       "      <th>3</th>\n",
       "      <td>10878960</td>\n",
       "      <td>JA188281</td>\n",
       "      <td>01/01/2017 12:01:00 AM</td>\n",
       "      <td>009XX E 86TH ST</td>\n",
       "      <td>1754</td>\n",
       "      <td>OFFENSE INVOLVING CHILDREN</td>\n",
       "      <td>AGG SEX ASSLT OF CHILD FAM MBR</td>\n",
       "      <td>RESIDENCE</td>\n",
       "      <td>False</td>\n",
       "      <td>False</td>\n",
       "      <td>...</td>\n",
       "      <td>8</td>\n",
       "      <td>44</td>\n",
       "      <td>02</td>\n",
       "      <td>NaN</td>\n",
       "      <td>NaN</td>\n",
       "      <td>2017</td>\n",
       "      <td>03/17/2017 03:52:20 PM</td>\n",
       "      <td>NaN</td>\n",
       "      <td>NaN</td>\n",
       "      <td>NaN</td>\n",
       "    </tr>\n",
       "    <tr>\n",
       "      <th>4</th>\n",
       "      <td>10878804</td>\n",
       "      <td>JA187911</td>\n",
       "      <td>01/01/2017 12:01:00 AM</td>\n",
       "      <td>053XX N SHERIDAN RD</td>\n",
       "      <td>1195</td>\n",
       "      <td>DECEPTIVE PRACTICE</td>\n",
       "      <td>FINAN EXPLOIT-ELDERLY/DISABLED</td>\n",
       "      <td>APARTMENT</td>\n",
       "      <td>False</td>\n",
       "      <td>False</td>\n",
       "      <td>...</td>\n",
       "      <td>48</td>\n",
       "      <td>77</td>\n",
       "      <td>11</td>\n",
       "      <td>NaN</td>\n",
       "      <td>NaN</td>\n",
       "      <td>2017</td>\n",
       "      <td>03/16/2017 03:53:03 PM</td>\n",
       "      <td>NaN</td>\n",
       "      <td>NaN</td>\n",
       "      <td>NaN</td>\n",
       "    </tr>\n",
       "  </tbody>\n",
       "</table>\n",
       "<p>5 rows × 22 columns</p>\n",
       "</div>"
      ],
      "text/plain": [
       "         ID Case Number                    Date                 Block  IUCR  \\\n",
       "0  10887077    JA196832  01/01/2017 12:01:00 AM    073XX N OAKLEY AVE  1751   \n",
       "1  10883971    JA193683  01/01/2017 12:01:00 AM      0000X E 103RD PL  0281   \n",
       "2  10883969    JA193696  01/01/2017 12:01:00 AM  075XX S KINGSTON AVE  1751   \n",
       "3  10878960    JA188281  01/01/2017 12:01:00 AM       009XX E 86TH ST  1754   \n",
       "4  10878804    JA187911  01/01/2017 12:01:00 AM   053XX N SHERIDAN RD  1195   \n",
       "\n",
       "                 Primary Type                     Description  \\\n",
       "0  OFFENSE INVOLVING CHILDREN    CRIM SEX ABUSE BY FAM MEMBER   \n",
       "1         CRIM SEXUAL ASSAULT                  NON-AGGRAVATED   \n",
       "2  OFFENSE INVOLVING CHILDREN    CRIM SEX ABUSE BY FAM MEMBER   \n",
       "3  OFFENSE INVOLVING CHILDREN  AGG SEX ASSLT OF CHILD FAM MBR   \n",
       "4          DECEPTIVE PRACTICE  FINAN EXPLOIT-ELDERLY/DISABLED   \n",
       "\n",
       "  Location Description  Arrest  Domestic    ...     Ward  Community Area  \\\n",
       "0            RESIDENCE   False     False    ...       49               2   \n",
       "1            RESIDENCE   False     False    ...        9              49   \n",
       "2            APARTMENT   False     False    ...        7              43   \n",
       "3            RESIDENCE   False     False    ...        8              44   \n",
       "4            APARTMENT   False     False    ...       48              77   \n",
       "\n",
       "   FBI Code  X Coordinate Y Coordinate  Year              Updated On  \\\n",
       "0        20           NaN          NaN  2017  03/23/2017 03:53:53 PM   \n",
       "1        02           NaN          NaN  2017  03/21/2017 03:50:39 PM   \n",
       "2        20           NaN          NaN  2017  03/21/2017 03:50:39 PM   \n",
       "3        02           NaN          NaN  2017  03/17/2017 03:52:20 PM   \n",
       "4        11           NaN          NaN  2017  03/16/2017 03:53:03 PM   \n",
       "\n",
       "   Latitude Longitude  Location  \n",
       "0       NaN       NaN       NaN  \n",
       "1       NaN       NaN       NaN  \n",
       "2       NaN       NaN       NaN  \n",
       "3       NaN       NaN       NaN  \n",
       "4       NaN       NaN       NaN  \n",
       "\n",
       "[5 rows x 22 columns]"
      ]
     },
     "execution_count": 3,
     "metadata": {},
     "output_type": "execute_result"
    }
   ],
   "source": [
    "df.head()"
   ]
  },
  {
   "cell_type": "code",
   "execution_count": 4,
   "metadata": {},
   "outputs": [
    {
     "data": {
      "text/plain": [
       "ID                        int64\n",
       "Case Number              object\n",
       "Date                     object\n",
       "Block                    object\n",
       "IUCR                     object\n",
       "Primary Type             object\n",
       "Description              object\n",
       "Location Description     object\n",
       "Arrest                     bool\n",
       "Domestic                   bool\n",
       "Beat                      int64\n",
       "District                  int64\n",
       "Ward                      int64\n",
       "Community Area            int64\n",
       "FBI Code                 object\n",
       "X Coordinate            float64\n",
       "Y Coordinate            float64\n",
       "Year                      int64\n",
       "Updated On               object\n",
       "Latitude                float64\n",
       "Longitude               float64\n",
       "Location                 object\n",
       "dtype: object"
      ]
     },
     "execution_count": 4,
     "metadata": {},
     "output_type": "execute_result"
    }
   ],
   "source": [
    "df.dtypes"
   ]
  },
  {
   "cell_type": "markdown",
   "metadata": {},
   "source": [
    "### Missing Values"
   ]
  },
  {
   "cell_type": "code",
   "execution_count": 5,
   "metadata": {},
   "outputs": [],
   "source": [
    "# Drop lines containing missing values\n",
    "df.dropna(inplace=True, axis=0)"
   ]
  },
  {
   "cell_type": "code",
   "execution_count": 6,
   "metadata": {},
   "outputs": [],
   "source": [
    "# Make the Primary Type column categorical, unordered\n",
    "df['Primary Type'] = df['Primary Type'].astype(\"category\", ordered=False)"
   ]
  },
  {
   "cell_type": "code",
   "execution_count": 7,
   "metadata": {},
   "outputs": [],
   "source": [
    "# Convert the Date column to a datetime format, not considering the time\n",
    "df['Date'] = pd.to_datetime(df['Date'].str[0:10], format='%m/%d/%Y')"
   ]
  },
  {
   "cell_type": "code",
   "execution_count": 8,
   "metadata": {},
   "outputs": [
    {
     "data": {
      "text/plain": [
       "ID                               int64\n",
       "Case Number                     object\n",
       "Date                    datetime64[ns]\n",
       "Block                           object\n",
       "IUCR                            object\n",
       "Primary Type                  category\n",
       "Description                     object\n",
       "Location Description            object\n",
       "Arrest                            bool\n",
       "Domestic                          bool\n",
       "Beat                             int64\n",
       "District                         int64\n",
       "Ward                             int64\n",
       "Community Area                   int64\n",
       "FBI Code                        object\n",
       "X Coordinate                   float64\n",
       "Y Coordinate                   float64\n",
       "Year                             int64\n",
       "Updated On                      object\n",
       "Latitude                       float64\n",
       "Longitude                      float64\n",
       "Location                        object\n",
       "dtype: object"
      ]
     },
     "execution_count": 8,
     "metadata": {},
     "output_type": "execute_result"
    }
   ],
   "source": [
    "df.dtypes"
   ]
  },
  {
   "cell_type": "markdown",
   "metadata": {},
   "source": [
    "### The top 12 most common crimes of the period?"
   ]
  },
  {
   "cell_type": "code",
   "execution_count": 9,
   "metadata": {},
   "outputs": [],
   "source": [
    "# Create a new dataframe grouped\n",
    "gr_by_crime_type = df[['Primary Type', 'Block']].groupby('Primary Type').agg('count')\n",
    "gr_by_crime_type.reset_index(inplace=True)\n",
    "gr_by_crime_type.columns = ['CrimeType', 'Quantity']"
   ]
  },
  {
   "cell_type": "code",
   "execution_count": 10,
   "metadata": {},
   "outputs": [],
   "source": [
    "# Sort the data by quantity in descending order\n",
    "gr_by_crime_type.sort_values(by='Quantity', ascending=False, inplace = True)"
   ]
  },
  {
   "cell_type": "code",
   "execution_count": 11,
   "metadata": {},
   "outputs": [
    {
     "data": {
      "text/html": [
       "<div>\n",
       "<style scoped>\n",
       "    .dataframe tbody tr th:only-of-type {\n",
       "        vertical-align: middle;\n",
       "    }\n",
       "\n",
       "    .dataframe tbody tr th {\n",
       "        vertical-align: top;\n",
       "    }\n",
       "\n",
       "    .dataframe thead th {\n",
       "        text-align: right;\n",
       "    }\n",
       "</style>\n",
       "<table border=\"1\" class=\"dataframe\">\n",
       "  <thead>\n",
       "    <tr style=\"text-align: right;\">\n",
       "      <th></th>\n",
       "      <th>CrimeType</th>\n",
       "      <th>Quantity</th>\n",
       "    </tr>\n",
       "  </thead>\n",
       "  <tbody>\n",
       "    <tr>\n",
       "      <th>28</th>\n",
       "      <td>THEFT</td>\n",
       "      <td>8834</td>\n",
       "    </tr>\n",
       "    <tr>\n",
       "      <th>2</th>\n",
       "      <td>BATTERY</td>\n",
       "      <td>6730</td>\n",
       "    </tr>\n",
       "    <tr>\n",
       "      <th>6</th>\n",
       "      <td>CRIMINAL DAMAGE</td>\n",
       "      <td>4328</td>\n",
       "    </tr>\n",
       "    <tr>\n",
       "      <th>21</th>\n",
       "      <td>OTHER OFFENSE</td>\n",
       "      <td>2764</td>\n",
       "    </tr>\n",
       "    <tr>\n",
       "      <th>1</th>\n",
       "      <td>ASSAULT</td>\n",
       "      <td>2577</td>\n",
       "    </tr>\n",
       "    <tr>\n",
       "      <th>8</th>\n",
       "      <td>DECEPTIVE PRACTICE</td>\n",
       "      <td>2331</td>\n",
       "    </tr>\n",
       "    <tr>\n",
       "      <th>3</th>\n",
       "      <td>BURGLARY</td>\n",
       "      <td>2163</td>\n",
       "    </tr>\n",
       "    <tr>\n",
       "      <th>15</th>\n",
       "      <td>MOTOR VEHICLE THEFT</td>\n",
       "      <td>2012</td>\n",
       "    </tr>\n",
       "    <tr>\n",
       "      <th>25</th>\n",
       "      <td>ROBBERY</td>\n",
       "      <td>1820</td>\n",
       "    </tr>\n",
       "    <tr>\n",
       "      <th>16</th>\n",
       "      <td>NARCOTICS</td>\n",
       "      <td>1483</td>\n",
       "    </tr>\n",
       "    <tr>\n",
       "      <th>7</th>\n",
       "      <td>CRIMINAL TRESPASS</td>\n",
       "      <td>1067</td>\n",
       "    </tr>\n",
       "    <tr>\n",
       "      <th>29</th>\n",
       "      <td>WEAPONS VIOLATION</td>\n",
       "      <td>647</td>\n",
       "    </tr>\n",
       "  </tbody>\n",
       "</table>\n",
       "</div>"
      ],
      "text/plain": [
       "              CrimeType  Quantity\n",
       "28                THEFT      8834\n",
       "2               BATTERY      6730\n",
       "6       CRIMINAL DAMAGE      4328\n",
       "21        OTHER OFFENSE      2764\n",
       "1               ASSAULT      2577\n",
       "8    DECEPTIVE PRACTICE      2331\n",
       "3              BURGLARY      2163\n",
       "15  MOTOR VEHICLE THEFT      2012\n",
       "25              ROBBERY      1820\n",
       "16            NARCOTICS      1483\n",
       "7     CRIMINAL TRESPASS      1067\n",
       "29    WEAPONS VIOLATION       647"
      ]
     },
     "execution_count": 11,
     "metadata": {},
     "output_type": "execute_result"
    }
   ],
   "source": [
    "# Subset the top 12 crimes\n",
    "gr_by_crime_type[0:12]"
   ]
  },
  {
   "cell_type": "markdown",
   "metadata": {},
   "source": [
    "### The crime types that have median above 50 crimes/day?"
   ]
  },
  {
   "cell_type": "code",
   "execution_count": 12,
   "metadata": {},
   "outputs": [],
   "source": [
    "# Subset the iris dataset by species\n",
    "top_12_crimes = gr_by_crime_type['CrimeType'][0:12]"
   ]
  },
  {
   "cell_type": "code",
   "execution_count": 13,
   "metadata": {},
   "outputs": [],
   "source": [
    "# Create a new dataframe grouped by day\n",
    "gr_by_day = df[['Primary Type', 'Date', 'Block']].groupby(['Primary Type', 'Date']).agg('count')\n",
    "gr_by_day.reset_index(inplace=True)\n",
    "gr_by_day.columns = ['CrimeType', 'Date', 'Quantity']"
   ]
  },
  {
   "cell_type": "code",
   "execution_count": 14,
   "metadata": {},
   "outputs": [],
   "source": [
    "# Filter just the top 12 crimes\n",
    "gr_by_day = gr_by_day[gr_by_day.CrimeType.isin(top_12_crimes)]"
   ]
  },
  {
   "cell_type": "code",
   "execution_count": 15,
   "metadata": {},
   "outputs": [
    {
     "data": {
      "text/plain": [
       "[ASSAULT, BATTERY, BURGLARY, CRIMINAL DAMAGE, CRIMINAL TRESPASS, ..., NARCOTICS, OTHER OFFENSE, ROBBERY, THEFT, WEAPONS VIOLATION]\n",
       "Length: 12\n",
       "Categories (12, object): [ASSAULT, BATTERY, BURGLARY, CRIMINAL DAMAGE, ..., OTHER OFFENSE, ROBBERY, THEFT, WEAPONS VIOLATION]"
      ]
     },
     "execution_count": 15,
     "metadata": {},
     "output_type": "execute_result"
    }
   ],
   "source": [
    "# Explore the new data set\n",
    "gr_by_day.CrimeType.unique()"
   ]
  },
  {
   "cell_type": "code",
   "execution_count": 16,
   "metadata": {},
   "outputs": [],
   "source": [
    "# Define the style of the plots\n",
    "sns.set(style=\"darkgrid\")"
   ]
  },
  {
   "cell_type": "code",
   "execution_count": 17,
   "metadata": {},
   "outputs": [
    {
     "data": {
      "text/plain": [
       "(array([ 0,  1,  2,  3,  4,  5,  6,  7,  8,  9, 10, 11, 12, 13, 14, 15, 16,\n",
       "        17, 18, 19, 20, 21, 22, 23, 24, 25, 26, 27, 28, 29]),\n",
       " <a list of 30 Text xticklabel objects>)"
      ]
     },
     "execution_count": 17,
     "metadata": {},
     "output_type": "execute_result"
    },
    {
     "data": {
      "image/png": "[encoded data removed]",
      "text/plain": [
       "<matplotlib.figure.Figure at 0x1fd6e5662e8>"
      ]
     },
     "metadata": {},
     "output_type": "display_data"
    }
   ],
   "source": [
    "# Plot the boxplot\n",
    "g = sns.boxplot(data=gr_by_day, x='CrimeType', y = 'Quantity')\n",
    "plt.xticks(rotation=90)"
   ]
  },
  {
   "cell_type": "markdown",
   "metadata": {},
   "source": [
    "As we could see in the plot, the three categories with more than 50 crimes/day are: **THEFT**, **BATTERY** and **CRIMINAL DAMAGE**."
   ]
  },
  {
   "cell_type": "markdown",
   "metadata": {},
   "source": [
    "### For each crime type identified, use the latitude and longitude into a KDE plot, to analyse its spread."
   ]
  },
  {
   "cell_type": "code",
   "execution_count": 18,
   "metadata": {},
   "outputs": [],
   "source": [
    "# Create new datasets for\n",
    "theft = df[['Latitude','Longitude']][df['Primary Type'] == 'THEFT']\n",
    "battery = df[['Latitude','Longitude']][df['Primary Type'] == 'BATTERY']\n",
    "criminal_damage = df[['Latitude','Longitude']][df['Primary Type'] == 'CRIMINAL DAMAGE']"
   ]
  },
  {
   "cell_type": "code",
   "execution_count": 19,
   "metadata": {},
   "outputs": [
    {
     "data": {
      "image/png": "[encoded data removed]",
      "text/plain": [
       "<matplotlib.figure.Figure at 0x1fd6e9c0940>"
      ]
     },
     "metadata": {},
     "output_type": "display_data"
    }
   ],
   "source": [
    "# Plot the THEFT crimes in red\n",
    "f, ax = plt.subplots(figsize=(8, 8))\n",
    "ax.set_aspect(\"equal\")\n",
    "ax = sns.kdeplot(theft.Latitude, theft.Longitude, cmap=\"Reds\", shade=True, shade_lowest=False)"
   ]
  },
  {
   "cell_type": "code",
   "execution_count": 20,
   "metadata": {},
   "outputs": [
    {
     "data": {
      "image/png": "[encoded data removed]",
      "text/plain": [
       "<matplotlib.figure.Figure at 0x1fd6e9f2b00>"
      ]
     },
     "metadata": {},
     "output_type": "display_data"
    }
   ],
   "source": [
    "# Plot the BATTERY crimes in blue\n",
    "f, ax = plt.subplots(figsize=(8, 8))\n",
    "ax.set_aspect(\"equal\")\n",
    "ax = sns.kdeplot(battery.Latitude, battery.Longitude, cmap=\"Blues\", shade=True, shade_lowest=False)"
   ]
  },
  {
   "cell_type": "code",
   "execution_count": 21,
   "metadata": {},
   "outputs": [
    {
     "data": {
      "image/png": "[encoded data removed]",
      "text/plain": [
       "<matplotlib.figure.Figure at 0x1fd6eb87ba8>"
      ]
     },
     "metadata": {},
     "output_type": "display_data"
    }
   ],
   "source": [
    "# Plot the CRIMINAL DAMAGE crimes in green\n",
    "f, ax = plt.subplots(figsize=(8, 8))\n",
    "ax.set_aspect(\"equal\")\n",
    "ax = sns.kdeplot(criminal_damage.Latitude, criminal_damage.Longitude, cmap=\"Greens\", shade=True, shade_lowest=False)"
   ]
  },
  {
   "cell_type": "markdown",
   "metadata": {},
   "source": [
    "### For each crime type plotted into KDE, discover the mean of the coordinates (latitude and longitude)."
   ]
  },
  {
   "cell_type": "code",
   "execution_count": 22,
   "metadata": {},
   "outputs": [],
   "source": [
    "# Store means into variables\n",
    "theft_center_lat = theft.Latitude.mean()\n",
    "theft_center_long = theft.Longitude.mean()\n",
    "battery_center_lat = battery.Latitude.mean()\n",
    "battery_center_long = battery.Longitude.mean()\n",
    "criminal_damage_center_lat = criminal_damage.Latitude.mean()\n",
    "criminal_damage_center_long = criminal_damage.Longitude.mean()"
   ]
  },
  {
   "cell_type": "code",
   "execution_count": 23,
   "metadata": {},
   "outputs": [
    {
     "name": "stdout",
     "output_type": "stream",
     "text": [
      "THEFT coordinate: (41.862720,-87.667282)\n",
      "BATTERY coordinate: (41.831977,-87.668571)\n",
      "CRIMINAL DAMAGE coordinate: (41.837694,-87.673674)\n"
     ]
    }
   ],
   "source": [
    "# Print the central coordinates\n",
    "print('THEFT coordinate: ({:f},{:f})'.format(theft_center_lat, theft_center_long))\n",
    "print('BATTERY coordinate: ({:f},{:f})'.format(battery_center_lat, battery_center_long))\n",
    "print('CRIMINAL DAMAGE coordinate: ({:f},{:f})'.format(criminal_damage_center_lat, criminal_damage_center_long))"
   ]
  },
  {
   "cell_type": "markdown",
   "metadata": {},
   "source": [
    "###  Go to google maps, plot the coordinates and investigate if the distances are close or not, what could indicate that the area should have more investment in public security."
   ]
  },
  {
   "cell_type": "markdown",
   "metadata": {},
   "source": [
    "The distance from Battery and Criminal Damage are very close, two blocks a apart. But Theft is a little bit further."
   ]
  },
  {
   "cell_type": "markdown",
   "metadata": {},
   "source": [
    "Using the mean of the values is not the best way to calculate the centrality of the data points. Clustering techniches are much more suitable for this task."
   ]
  }
 ],
 "metadata": {
  "anaconda-cloud": {},
  "kernelspec": {
   "display_name": "Python 3",
   "language": "python",
   "name": "python3"
  },
  "language_info": {
   "codemirror_mode": {
    "name": "ipython",
    "version": 3
   },
   "file_extension": ".py",
   "mimetype": "text/x-python",
   "name": "python",
   "nbconvert_exporter": "python",
   "pygments_lexer": "ipython3",
   "version": "3.6.3"
  }
 },
 "nbformat": 4,
 "nbformat_minor": 1
}
