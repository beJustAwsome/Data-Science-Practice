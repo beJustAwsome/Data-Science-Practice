{
 "cells": [
  {
   "cell_type": "markdown",
   "metadata": {},
   "source": [
    "<img src='https://wordpress.uprm.edu/eship/wp-content/uploads/sites/54/2016/06/logo_WBG.jpg' height= 400 width=400></img>\n"
   ]
  },
  {
   "cell_type": "markdown",
   "metadata": {},
   "source": [
    "# World's GDP Analysis from 2007 to 2016\n",
    "\n",
    "> The dataset with 10 years of percentage GDP growth, from 2007 to 2016 used in this case study was downloaded from the\n",
    "<a href='http://data.worldbank.org/indicator/NY.GDP.MKTP.KD.ZG'>World Bank</a> website. \n",
    "<a href='http://data.worldbank.org/'> World Bank Open Data </a> provides free and open access to global development data.\n",
    "\n",
    "> ## Objective: Find interesting patterns in given data. \n",
    "- Doing research of how the world has developed for all countries and economies in the last ten years. "
   ]
  },
  {
   "cell_type": "code",
   "execution_count": 1,
   "metadata": {},
   "outputs": [],
   "source": [
    "# Import packages\n",
    "import pandas as pd\n",
    "import numpy as np\n",
    "import matplotlib.pyplot as plt\n",
    "%matplotlib inline"
   ]
  },
  {
   "cell_type": "markdown",
   "metadata": {},
   "source": [
    "##  Load the data "
   ]
  },
  {
   "cell_type": "code",
   "execution_count": 2,
   "metadata": {},
   "outputs": [],
   "source": [
    "df = pd.read_csv(\"world_gdp_growth.csv\",encoding ='latin1')"
   ]
  },
  {
   "cell_type": "code",
   "execution_count": 3,
   "metadata": {},
   "outputs": [
    {
     "data": {
      "text/html": [
       "<div>\n",
       "<style scoped>\n",
       "    .dataframe tbody tr th:only-of-type {\n",
       "        vertical-align: middle;\n",
       "    }\n",
       "\n",
       "    .dataframe tbody tr th {\n",
       "        vertical-align: top;\n",
       "    }\n",
       "\n",
       "    .dataframe thead th {\n",
       "        text-align: right;\n",
       "    }\n",
       "</style>\n",
       "<table border=\"1\" class=\"dataframe\">\n",
       "  <thead>\n",
       "    <tr style=\"text-align: right;\">\n",
       "      <th></th>\n",
       "      <th>Country Name</th>\n",
       "      <th>Country Code</th>\n",
       "      <th>Indicator Name</th>\n",
       "      <th>Indicator Code</th>\n",
       "      <th>1960</th>\n",
       "      <th>1961</th>\n",
       "      <th>1962</th>\n",
       "      <th>1963</th>\n",
       "      <th>1964</th>\n",
       "      <th>1965</th>\n",
       "      <th>...</th>\n",
       "      <th>2007</th>\n",
       "      <th>2008</th>\n",
       "      <th>2009</th>\n",
       "      <th>2010</th>\n",
       "      <th>2011</th>\n",
       "      <th>2012</th>\n",
       "      <th>2013</th>\n",
       "      <th>2014</th>\n",
       "      <th>2015</th>\n",
       "      <th>2016</th>\n",
       "    </tr>\n",
       "  </thead>\n",
       "  <tbody>\n",
       "    <tr>\n",
       "      <th>0</th>\n",
       "      <td>Aruba</td>\n",
       "      <td>ABW</td>\n",
       "      <td>GDP growth (annual %)</td>\n",
       "      <td>NY.GDP.MKTP.KD.ZG</td>\n",
       "      <td>NaN</td>\n",
       "      <td>NaN</td>\n",
       "      <td>NaN</td>\n",
       "      <td>NaN</td>\n",
       "      <td>NaN</td>\n",
       "      <td>NaN</td>\n",
       "      <td>...</td>\n",
       "      <td>-3.654626</td>\n",
       "      <td>-6.881302</td>\n",
       "      <td>-5.653502</td>\n",
       "      <td>NaN</td>\n",
       "      <td>NaN</td>\n",
       "      <td>NaN</td>\n",
       "      <td>NaN</td>\n",
       "      <td>NaN</td>\n",
       "      <td>NaN</td>\n",
       "      <td>NaN</td>\n",
       "    </tr>\n",
       "    <tr>\n",
       "      <th>1</th>\n",
       "      <td>Afghanistan</td>\n",
       "      <td>AFG</td>\n",
       "      <td>GDP growth (annual %)</td>\n",
       "      <td>NY.GDP.MKTP.KD.ZG</td>\n",
       "      <td>NaN</td>\n",
       "      <td>NaN</td>\n",
       "      <td>NaN</td>\n",
       "      <td>NaN</td>\n",
       "      <td>NaN</td>\n",
       "      <td>NaN</td>\n",
       "      <td>...</td>\n",
       "      <td>13.740205</td>\n",
       "      <td>3.611368</td>\n",
       "      <td>21.020649</td>\n",
       "      <td>8.433290</td>\n",
       "      <td>6.113685</td>\n",
       "      <td>14.434741</td>\n",
       "      <td>1.959123</td>\n",
       "      <td>1.312531</td>\n",
       "      <td>1.112558</td>\n",
       "      <td>2.232272</td>\n",
       "    </tr>\n",
       "    <tr>\n",
       "      <th>2</th>\n",
       "      <td>Angola</td>\n",
       "      <td>AGO</td>\n",
       "      <td>GDP growth (annual %)</td>\n",
       "      <td>NY.GDP.MKTP.KD.ZG</td>\n",
       "      <td>NaN</td>\n",
       "      <td>NaN</td>\n",
       "      <td>NaN</td>\n",
       "      <td>NaN</td>\n",
       "      <td>NaN</td>\n",
       "      <td>NaN</td>\n",
       "      <td>...</td>\n",
       "      <td>22.593054</td>\n",
       "      <td>13.817146</td>\n",
       "      <td>2.412870</td>\n",
       "      <td>3.407655</td>\n",
       "      <td>3.918597</td>\n",
       "      <td>5.155441</td>\n",
       "      <td>6.813586</td>\n",
       "      <td>4.804473</td>\n",
       "      <td>3.006981</td>\n",
       "      <td>0.000000</td>\n",
       "    </tr>\n",
       "    <tr>\n",
       "      <th>3</th>\n",
       "      <td>Albania</td>\n",
       "      <td>ALB</td>\n",
       "      <td>GDP growth (annual %)</td>\n",
       "      <td>NY.GDP.MKTP.KD.ZG</td>\n",
       "      <td>NaN</td>\n",
       "      <td>NaN</td>\n",
       "      <td>NaN</td>\n",
       "      <td>NaN</td>\n",
       "      <td>NaN</td>\n",
       "      <td>NaN</td>\n",
       "      <td>...</td>\n",
       "      <td>5.900000</td>\n",
       "      <td>7.530000</td>\n",
       "      <td>3.350000</td>\n",
       "      <td>3.710000</td>\n",
       "      <td>2.550000</td>\n",
       "      <td>1.420000</td>\n",
       "      <td>1.110000</td>\n",
       "      <td>1.800000</td>\n",
       "      <td>2.590000</td>\n",
       "      <td>3.460000</td>\n",
       "    </tr>\n",
       "    <tr>\n",
       "      <th>4</th>\n",
       "      <td>Andorra</td>\n",
       "      <td>AND</td>\n",
       "      <td>GDP growth (annual %)</td>\n",
       "      <td>NY.GDP.MKTP.KD.ZG</td>\n",
       "      <td>NaN</td>\n",
       "      <td>NaN</td>\n",
       "      <td>NaN</td>\n",
       "      <td>NaN</td>\n",
       "      <td>NaN</td>\n",
       "      <td>NaN</td>\n",
       "      <td>...</td>\n",
       "      <td>0.078039</td>\n",
       "      <td>-8.594256</td>\n",
       "      <td>-3.817986</td>\n",
       "      <td>-5.347977</td>\n",
       "      <td>-4.802675</td>\n",
       "      <td>-1.760010</td>\n",
       "      <td>-0.063514</td>\n",
       "      <td>NaN</td>\n",
       "      <td>NaN</td>\n",
       "      <td>NaN</td>\n",
       "    </tr>\n",
       "  </tbody>\n",
       "</table>\n",
       "<p>5 rows × 61 columns</p>\n",
       "</div>"
      ],
      "text/plain": [
       "  Country Name Country Code         Indicator Name     Indicator Code  1960  \\\n",
       "0        Aruba          ABW  GDP growth (annual %)  NY.GDP.MKTP.KD.ZG   NaN   \n",
       "1  Afghanistan          AFG  GDP growth (annual %)  NY.GDP.MKTP.KD.ZG   NaN   \n",
       "2       Angola          AGO  GDP growth (annual %)  NY.GDP.MKTP.KD.ZG   NaN   \n",
       "3      Albania          ALB  GDP growth (annual %)  NY.GDP.MKTP.KD.ZG   NaN   \n",
       "4      Andorra          AND  GDP growth (annual %)  NY.GDP.MKTP.KD.ZG   NaN   \n",
       "\n",
       "   1961  1962  1963  1964  1965    ...          2007       2008       2009  \\\n",
       "0   NaN   NaN   NaN   NaN   NaN    ...     -3.654626  -6.881302  -5.653502   \n",
       "1   NaN   NaN   NaN   NaN   NaN    ...     13.740205   3.611368  21.020649   \n",
       "2   NaN   NaN   NaN   NaN   NaN    ...     22.593054  13.817146   2.412870   \n",
       "3   NaN   NaN   NaN   NaN   NaN    ...      5.900000   7.530000   3.350000   \n",
       "4   NaN   NaN   NaN   NaN   NaN    ...      0.078039  -8.594256  -3.817986   \n",
       "\n",
       "       2010      2011       2012      2013      2014      2015      2016  \n",
       "0       NaN       NaN        NaN       NaN       NaN       NaN       NaN  \n",
       "1  8.433290  6.113685  14.434741  1.959123  1.312531  1.112558  2.232272  \n",
       "2  3.407655  3.918597   5.155441  6.813586  4.804473  3.006981  0.000000  \n",
       "3  3.710000  2.550000   1.420000  1.110000  1.800000  2.590000  3.460000  \n",
       "4 -5.347977 -4.802675  -1.760010 -0.063514       NaN       NaN       NaN  \n",
       "\n",
       "[5 rows x 61 columns]"
      ]
     },
     "execution_count": 3,
     "metadata": {},
     "output_type": "execute_result"
    }
   ],
   "source": [
    "df.head()"
   ]
  },
  {
   "cell_type": "code",
   "execution_count": 4,
   "metadata": {},
   "outputs": [
    {
     "data": {
      "text/plain": [
       "Index(['CountryName', 'CountryCode', 'IndicatorName', 'IndicatorCode', '1960',\n",
       "       '1961', '1962', '1963', '1964', '1965', '1966', '1967', '1968', '1969',\n",
       "       '1970', '1971', '1972', '1973', '1974', '1975', '1976', '1977', '1978',\n",
       "       '1979', '1980', '1981', '1982', '1983', '1984', '1985', '1986', '1987',\n",
       "       '1988', '1989', '1990', '1991', '1992', '1993', '1994', '1995', '1996',\n",
       "       '1997', '1998', '1999', '2000', '2001', '2002', '2003', '2004', '2005',\n",
       "       '2006', '2007', '2008', '2009', '2010', '2011', '2012', '2013', '2014',\n",
       "       '2015', '2016'],\n",
       "      dtype='object')"
      ]
     },
     "execution_count": 4,
     "metadata": {},
     "output_type": "execute_result"
    }
   ],
   "source": [
    "# Renaming columns of a dataframe to remove spaces.\n",
    "df.rename(columns={'Country Name':'CountryName','Country Code':'CountryCode','Indicator Name':'IndicatorName','Indicator Code':'IndicatorCode'},inplace=True)\n",
    "df.columns"
   ]
  },
  {
   "cell_type": "code",
   "execution_count": 5,
   "metadata": {},
   "outputs": [
    {
     "data": {
      "text/html": [
       "<div>\n",
       "<style scoped>\n",
       "    .dataframe tbody tr th:only-of-type {\n",
       "        vertical-align: middle;\n",
       "    }\n",
       "\n",
       "    .dataframe tbody tr th {\n",
       "        vertical-align: top;\n",
       "    }\n",
       "\n",
       "    .dataframe thead th {\n",
       "        text-align: right;\n",
       "    }\n",
       "</style>\n",
       "<table border=\"1\" class=\"dataframe\">\n",
       "  <thead>\n",
       "    <tr style=\"text-align: right;\">\n",
       "      <th></th>\n",
       "      <th>CountryName</th>\n",
       "      <th>CountryCode</th>\n",
       "      <th>IndicatorName</th>\n",
       "      <th>IndicatorCode</th>\n",
       "      <th>1960</th>\n",
       "      <th>1961</th>\n",
       "      <th>1962</th>\n",
       "      <th>1963</th>\n",
       "      <th>1964</th>\n",
       "      <th>1965</th>\n",
       "      <th>...</th>\n",
       "      <th>2007</th>\n",
       "      <th>2008</th>\n",
       "      <th>2009</th>\n",
       "      <th>2010</th>\n",
       "      <th>2011</th>\n",
       "      <th>2012</th>\n",
       "      <th>2013</th>\n",
       "      <th>2014</th>\n",
       "      <th>2015</th>\n",
       "      <th>2016</th>\n",
       "    </tr>\n",
       "  </thead>\n",
       "  <tbody>\n",
       "    <tr>\n",
       "      <th>257</th>\n",
       "      <td>World</td>\n",
       "      <td>WLD</td>\n",
       "      <td>GDP growth (annual %)</td>\n",
       "      <td>NY.GDP.MKTP.KD.ZG</td>\n",
       "      <td>NaN</td>\n",
       "      <td>4.32441</td>\n",
       "      <td>5.558937</td>\n",
       "      <td>5.209765</td>\n",
       "      <td>6.662102</td>\n",
       "      <td>5.551722</td>\n",
       "      <td>...</td>\n",
       "      <td>4.25613</td>\n",
       "      <td>1.819377</td>\n",
       "      <td>-1.735454</td>\n",
       "      <td>4.326724</td>\n",
       "      <td>3.156207</td>\n",
       "      <td>2.439034</td>\n",
       "      <td>2.600754</td>\n",
       "      <td>2.830787</td>\n",
       "      <td>2.734245</td>\n",
       "      <td>2.437786</td>\n",
       "    </tr>\n",
       "  </tbody>\n",
       "</table>\n",
       "<p>1 rows × 61 columns</p>\n",
       "</div>"
      ],
      "text/plain": [
       "    CountryName CountryCode          IndicatorName      IndicatorCode  1960  \\\n",
       "257       World         WLD  GDP growth (annual %)  NY.GDP.MKTP.KD.ZG   NaN   \n",
       "\n",
       "        1961      1962      1963      1964      1965    ...        2007  \\\n",
       "257  4.32441  5.558937  5.209765  6.662102  5.551722    ...     4.25613   \n",
       "\n",
       "         2008      2009      2010      2011      2012      2013      2014  \\\n",
       "257  1.819377 -1.735454  4.326724  3.156207  2.439034  2.600754  2.830787   \n",
       "\n",
       "         2015      2016  \n",
       "257  2.734245  2.437786  \n",
       "\n",
       "[1 rows x 61 columns]"
      ]
     },
     "execution_count": 5,
     "metadata": {},
     "output_type": "execute_result"
    }
   ],
   "source": [
    "# Filter global's economies: \"World\"\n",
    "global_economy = df['CountryName']=='World'\n",
    "df[global_economy]"
   ]
  },
  {
   "cell_type": "code",
   "execution_count": 6,
   "metadata": {},
   "outputs": [
    {
     "data": {
      "text/plain": [
       "2007    4.25613\n",
       "2008    1.81938\n",
       "2009   -1.73545\n",
       "2010    4.32672\n",
       "2011    3.15621\n",
       "2012    2.43903\n",
       "2013    2.60075\n",
       "2014    2.83079\n",
       "2015    2.73425\n",
       "2016    2.43779\n",
       "Name: 257, dtype: object"
      ]
     },
     "execution_count": 6,
     "metadata": {},
     "output_type": "execute_result"
    }
   ],
   "source": [
    "# Get the data from the all Country's economies from year 2007-2016.\n",
    "df = df.loc[257,'2007':]\n",
    "df"
   ]
  },
  {
   "cell_type": "code",
   "execution_count": 7,
   "metadata": {},
   "outputs": [],
   "source": [
    "# Create new DataFrame and assign new header column for Year and AnnualGDPGrowth.\n",
    "worldBankData = pd.DataFrame({'Year':df.index, 'AnnualGDPGrowth':df.values})"
   ]
  },
  {
   "cell_type": "code",
   "execution_count": 8,
   "metadata": {},
   "outputs": [],
   "source": [
    "# Convert data types from object to numeric.\n",
    "worldBankData['Year'] = worldBankData['Year'].astype(int)\n",
    "worldBankData['AnnualGDPGrowth'] = worldBankData['AnnualGDPGrowth'].astype(float)"
   ]
  },
  {
   "cell_type": "code",
   "execution_count": 9,
   "metadata": {},
   "outputs": [],
   "source": [
    "# Re arrange columns order\n",
    "worldBankData = worldBankData[['Year', 'AnnualGDPGrowth']]"
   ]
  },
  {
   "cell_type": "code",
   "execution_count": 10,
   "metadata": {},
   "outputs": [
    {
     "data": {
      "text/html": [
       "<div>\n",
       "<style scoped>\n",
       "    .dataframe tbody tr th:only-of-type {\n",
       "        vertical-align: middle;\n",
       "    }\n",
       "\n",
       "    .dataframe tbody tr th {\n",
       "        vertical-align: top;\n",
       "    }\n",
       "\n",
       "    .dataframe thead th {\n",
       "        text-align: right;\n",
       "    }\n",
       "</style>\n",
       "<table border=\"1\" class=\"dataframe\">\n",
       "  <thead>\n",
       "    <tr style=\"text-align: right;\">\n",
       "      <th></th>\n",
       "      <th>Year</th>\n",
       "      <th>AnnualGDPGrowth</th>\n",
       "    </tr>\n",
       "  </thead>\n",
       "  <tbody>\n",
       "    <tr>\n",
       "      <th>0</th>\n",
       "      <td>2007</td>\n",
       "      <td>4.256130</td>\n",
       "    </tr>\n",
       "    <tr>\n",
       "      <th>1</th>\n",
       "      <td>2008</td>\n",
       "      <td>1.819377</td>\n",
       "    </tr>\n",
       "    <tr>\n",
       "      <th>2</th>\n",
       "      <td>2009</td>\n",
       "      <td>-1.735454</td>\n",
       "    </tr>\n",
       "    <tr>\n",
       "      <th>3</th>\n",
       "      <td>2010</td>\n",
       "      <td>4.326724</td>\n",
       "    </tr>\n",
       "    <tr>\n",
       "      <th>4</th>\n",
       "      <td>2011</td>\n",
       "      <td>3.156207</td>\n",
       "    </tr>\n",
       "    <tr>\n",
       "      <th>5</th>\n",
       "      <td>2012</td>\n",
       "      <td>2.439034</td>\n",
       "    </tr>\n",
       "    <tr>\n",
       "      <th>6</th>\n",
       "      <td>2013</td>\n",
       "      <td>2.600754</td>\n",
       "    </tr>\n",
       "    <tr>\n",
       "      <th>7</th>\n",
       "      <td>2014</td>\n",
       "      <td>2.830787</td>\n",
       "    </tr>\n",
       "    <tr>\n",
       "      <th>8</th>\n",
       "      <td>2015</td>\n",
       "      <td>2.734245</td>\n",
       "    </tr>\n",
       "    <tr>\n",
       "      <th>9</th>\n",
       "      <td>2016</td>\n",
       "      <td>2.437786</td>\n",
       "    </tr>\n",
       "  </tbody>\n",
       "</table>\n",
       "</div>"
      ],
      "text/plain": [
       "   Year  AnnualGDPGrowth\n",
       "0  2007         4.256130\n",
       "1  2008         1.819377\n",
       "2  2009        -1.735454\n",
       "3  2010         4.326724\n",
       "4  2011         3.156207\n",
       "5  2012         2.439034\n",
       "6  2013         2.600754\n",
       "7  2014         2.830787\n",
       "8  2015         2.734245\n",
       "9  2016         2.437786"
      ]
     },
     "execution_count": 10,
     "metadata": {},
     "output_type": "execute_result"
    }
   ],
   "source": [
    "worldBankData"
   ]
  },
  {
   "cell_type": "markdown",
   "metadata": {},
   "source": [
    "____"
   ]
  },
  {
   "cell_type": "markdown",
   "metadata": {},
   "source": [
    "## Perform the analysis in real life data from the World Bank:\n",
    "        \n",
    "            1. What was the biggest increase in the GDP in the last ten years? \n",
    "            2. What was the biggest decrease in the GDP in the last ten years? \n",
    "            3. How many times the GDP has increased at least 2%? \n",
    "            4. How many times the GDP has decreased? \n",
    "            5. What was the average growth of the last ten years? \n",
    "            6. Which real world event is represented in this dataset? \n",
    "        "
   ]
  },
  {
   "cell_type": "code",
   "execution_count": 11,
   "metadata": {},
   "outputs": [
    {
     "data": {
      "image/png": "[encoded data removed]",
      "text/plain": [
       "<matplotlib.figure.Figure at 0x22b7ce2b518>"
      ]
     },
     "metadata": {},
     "output_type": "display_data"
    }
   ],
   "source": [
    "worldBankData.plot(x='Year',y='AnnualGDPGrowth',figsize=(12,6))\n",
    "plt.show()"
   ]
  },
  {
   "cell_type": "markdown",
   "metadata": {},
   "source": [
    "### What was the biggest increase in the GDP in the last ten years?"
   ]
  },
  {
   "cell_type": "code",
   "execution_count": 12,
   "metadata": {},
   "outputs": [
    {
     "name": "stdout",
     "output_type": "stream",
     "text": [
      "The biggest increase was 4.33% in 2010.\n"
     ]
    }
   ],
   "source": [
    "index_biggest = worldBankData['AnnualGDPGrowth'].idxmax()\n",
    "\n",
    "pd_biggest_grow = worldBankData['AnnualGDPGrowth'][index_biggest]\n",
    "pd_biggest_year = worldBankData['Year'][index_biggest]\n",
    "\n",
    "print ('The biggest increase was {:.2f}% in {}.'.format(pd_biggest_grow, pd_biggest_year))"
   ]
  },
  {
   "cell_type": "markdown",
   "metadata": {},
   "source": [
    "### What was the biggest decrease in the GDP in the last ten years?"
   ]
  },
  {
   "cell_type": "code",
   "execution_count": 13,
   "metadata": {},
   "outputs": [
    {
     "name": "stdout",
     "output_type": "stream",
     "text": [
      "The biggest decrease was -1.74% in 2009.\n"
     ]
    }
   ],
   "source": [
    "index_lowest = worldBankData['AnnualGDPGrowth'].idxmin()\n",
    "\n",
    "pd_lowest_grow = worldBankData['AnnualGDPGrowth'][index_lowest]\n",
    "pd_lowest_year = worldBankData['Year'][index_lowest]\n",
    "\n",
    "print ('The biggest decrease was {:.2f}% in {}.'.format(pd_lowest_grow, pd_lowest_year))"
   ]
  },
  {
   "cell_type": "markdown",
   "metadata": {},
   "source": [
    "### How many times the GDP has increased at least 2%?"
   ]
  },
  {
   "cell_type": "code",
   "execution_count": 14,
   "metadata": {},
   "outputs": [
    {
     "name": "stdout",
     "output_type": "stream",
     "text": [
      "For 8 year(s) the World's GDP was above 2% , 2007, 2010, 2011, 2012, 2013, 2014, 2015, 2016.\n"
     ]
    }
   ],
   "source": [
    "pd_count = len(worldBankData[worldBankData['AnnualGDPGrowth'] > 2])\n",
    "\n",
    "pd_years = \"\"\n",
    "\n",
    "for y in worldBankData[worldBankData['AnnualGDPGrowth'] > 2].Year:\n",
    "    pd_years = pd_years + \", \" + str(y)\n",
    "\n",
    "print ('For {} year(s) the World\\'s GDP was above 2% {}.'.format(pd_count, pd_years))"
   ]
  },
  {
   "cell_type": "markdown",
   "metadata": {},
   "source": [
    "### How many times the GDP has decreased?"
   ]
  },
  {
   "cell_type": "code",
   "execution_count": 15,
   "metadata": {},
   "outputs": [
    {
     "name": "stdout",
     "output_type": "stream",
     "text": [
      "For 1 year(s) the World's GDP has decreased , 2009.\n"
     ]
    }
   ],
   "source": [
    "pd_count = len(worldBankData[worldBankData['AnnualGDPGrowth'] < 0])\n",
    "\n",
    "pd_years = \"\"\n",
    "\n",
    "for y in worldBankData[worldBankData['AnnualGDPGrowth'] < 0].Year:\n",
    "    pd_years = pd_years + \", \" + str(y)\n",
    "\n",
    "print ('For {} year(s) the World\\'s GDP has decreased {}.'.format(pd_count, pd_years))"
   ]
  },
  {
   "cell_type": "markdown",
   "metadata": {},
   "source": [
    "### What was the average growth of the last ten years?"
   ]
  },
  {
   "cell_type": "code",
   "execution_count": 16,
   "metadata": {},
   "outputs": [
    {
     "name": "stdout",
     "output_type": "stream",
     "text": [
      "The average growth of the decade was 2.49%.\n"
     ]
    }
   ],
   "source": [
    "pd_avg = worldBankData['AnnualGDPGrowth'].mean()\n",
    "\n",
    "print ('The average growth of the decade was {:.2f}%.'.format(pd_avg))"
   ]
  },
  {
   "cell_type": "markdown",
   "metadata": {},
   "source": [
    "### Which real world event is represented in this dataset?"
   ]
  },
  {
   "cell_type": "markdown",
   "metadata": {},
   "source": [
    "### Global Economic Crisis in 2009\n",
    "\n",
    "As you can see the biggest decrease in the GDP is Year 2009. and this is the **Global Economic Crisis**"
   ]
  }
 ],
 "metadata": {
  "anaconda-cloud": {},
  "kernelspec": {
   "display_name": "Python 3",
   "language": "python",
   "name": "python3"
  },
  "language_info": {
   "codemirror_mode": {
    "name": "ipython",
    "version": 3
   },
   "file_extension": ".py",
   "mimetype": "text/x-python",
   "name": "python",
   "nbconvert_exporter": "python",
   "pygments_lexer": "ipython3",
   "version": "3.6.3"
  }
 },
 "nbformat": 4,
 "nbformat_minor": 1
}
